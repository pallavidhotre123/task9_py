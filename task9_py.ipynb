{
 "cells": [
  {
   "cell_type": "markdown",
   "id": "f317ee95-45bc-420f-89c9-d605ef7d5e71",
   "metadata": {},
   "source": [
    "# Inheritance in python"
   ]
  },
  {
   "cell_type": "markdown",
   "id": "08872ff1-e59f-4c8e-a1b1-800ba0a7db10",
   "metadata": {},
   "source": [
    "#### inheritance is a fundamental concept in object-oriented programming that allows a class to inherit attributes and methods from another class. This promotes code resability and esatablishes a relationshil between classes"
   ]
  },
  {
   "cell_type": "markdown",
   "id": "3ae12af4-2f44-4c16-86e6-6e0b4813c2a2",
   "metadata": {},
   "source": [
    "## Types of Inheritance"
   ]
  },
  {
   "cell_type": "markdown",
   "id": "5bcde710-8c11-4f2d-9557-581a0cb05989",
   "metadata": {},
   "source": [
    "##### * Single inheritance\n",
    "##### * Multiple inheritance\n",
    "##### * Multilevel inheritance\n",
    "##### * Hierarchical inheritance\n",
    "##### * Hybrid inheritance"
   ]
  },
  {
   "cell_type": "markdown",
   "id": "4141e8b2-3f31-4446-90c0-73d9cfd87e87",
   "metadata": {},
   "source": [
    "## Single inheritance\n",
    "##### In single inheritance, a child class inherits from a single parent class\n"
   ]
  },
  {
   "cell_type": "code",
   "execution_count": 35,
   "id": "d26b3418-7e1a-425e-8a54-6dcd6cb3d1a3",
   "metadata": {},
   "outputs": [
    {
     "name": "stdout",
     "output_type": "stream",
     "text": [
      "Firstname = Pallavi, Middlename = Anil, Lastname = Dhotre\n",
      "Firstname = harshada, Middlename = Anil, Lastname = Dhotre\n"
     ]
    }
   ],
   "source": [
    "class familyinfo:\n",
    "    Firstname = ''\n",
    "    Middlename = ''\n",
    "    Lastname = ''\n",
    "\n",
    "    def __init__(self,Firstname,Middlename,Lastname):\n",
    "         self.Firstname = Firstname\n",
    "         self.Middlename = Middlename\n",
    "         self.Lastname = Lastname\n",
    "\n",
    "    def printfamilydata(self):\n",
    "         print(f'Firstname = {self.Firstname}, Middlename = {self.Middlename}, Lastname = {self.Lastname}')\n",
    "\n",
    "\n",
    "p1 = familyinfo('Pallavi','Anil','Dhotre')\n",
    "p1.printfamilydata()\n",
    "\n",
    "p2 = familyinfo('harshada', 'Anil', 'Dhotre')\n",
    "p2.printfamilydata()"
   ]
  },
  {
   "cell_type": "markdown",
   "id": "e750e806-70e4-45b5-9d63-d101dbe828e2",
   "metadata": {},
   "source": [
    "## Multiple inheritance\n",
    "##### In multiple inheritancr, a child inherits from more than one parent class "
   ]
  },
  {
   "cell_type": "code",
   "execution_count": 62,
   "id": "0f866553-0743-4beb-b082-f93cc79a5070",
   "metadata": {},
   "outputs": [
    {
     "name": "stdout",
     "output_type": "stream",
     "text": [
      "The so many types of inheritance\n",
      "The my name is xyz\n"
     ]
    }
   ],
   "source": [
    "class Father:\n",
    "    def __init__(self, name):\n",
    "        self.name = name\n",
    "\n",
    "    def father_traits(self):\n",
    "        return f\"{self.name} so many types of inheritance\"\n",
    "        \n",
    "class Mother:\n",
    "    def __init__(self, name):\n",
    "        self.name = name\n",
    "\n",
    "    def mother_traits(self):\n",
    "        return f\"{self.name} my name is xyz\"\n",
    "\n",
    "class Child(Father, Mother):\n",
    "    def __init__(self, name):\n",
    "        Father.__init__(self, name)\n",
    "        Mother.__init__(self, name)\n",
    "\n",
    "child = Child(\"The\")\n",
    "print(child.father_traits())\n",
    "print(child.mother_traits())"
   ]
  },
  {
   "cell_type": "markdown",
   "id": "02fa6eff-f990-47c3-a922-ed350354e78e",
   "metadata": {},
   "source": [
    "## Multilevel inheritance\n",
    "##### involves a chain of inheritance"
   ]
  },
  {
   "cell_type": "code",
   "execution_count": 74,
   "id": "f380c445-6122-403b-b053-b1acb9249f6c",
   "metadata": {},
   "outputs": [
    {
     "ename": "NameError",
     "evalue": "name 'days' is not defined",
     "output_type": "error",
     "traceback": [
      "\u001b[1;31m---------------------------------------------------------------------------\u001b[0m",
      "\u001b[1;31mNameError\u001b[0m                                 Traceback (most recent call last)",
      "Cell \u001b[1;32mIn[74], line 9\u001b[0m\n\u001b[0;32m      6\u001b[0m     \u001b[38;5;28;01mdef\u001b[39;00m \u001b[38;5;21mdaydata\u001b[39m(\u001b[38;5;28mself\u001b[39m):\n\u001b[0;32m      7\u001b[0m         \u001b[38;5;28mprint\u001b[39m(\u001b[38;5;124mf\u001b[39m\u001b[38;5;124m'\u001b[39m\u001b[38;5;132;01m{\u001b[39;00m\u001b[38;5;28mself\u001b[39m\u001b[38;5;241m.\u001b[39mday\u001b[38;5;132;01m}\u001b[39;00m\u001b[38;5;124m monday to tuesday\u001b[39m\u001b[38;5;124m'\u001b[39m)\n\u001b[1;32m----> 9\u001b[0m \u001b[38;5;28;01mclass\u001b[39;00m \u001b[38;5;21;01mdays\u001b[39;00m(days):\n\u001b[0;32m     11\u001b[0m     \u001b[38;5;28;01mdef\u001b[39;00m \u001b[38;5;21mdatedata\u001b[39m(\u001b[38;5;28mself\u001b[39m):\n\u001b[0;32m     12\u001b[0m         prinr(\u001b[38;5;124mf\u001b[39m\u001b[38;5;124m'\u001b[39m\u001b[38;5;132;01m{\u001b[39;00m\u001b[38;5;28mself\u001b[39m\u001b[38;5;241m.\u001b[39mdate\u001b[38;5;132;01m}\u001b[39;00m\u001b[38;5;124m tuesday to wednesday\u001b[39m\u001b[38;5;124m'\u001b[39m)\n",
      "\u001b[1;31mNameError\u001b[0m: name 'days' is not defined"
     ]
    }
   ],
   "source": [
    "class weeks:\n",
    "\n",
    "    def __init__(self,day):\n",
    "        self.day = day\n",
    "        \n",
    "    def daydata(self):\n",
    "        print(f'{self.day} monday to tuesday')\n",
    "\n",
    "class days(days):\n",
    "\n",
    "    def datedata(self):\n",
    "        prinr(f'{self.date} tuesday to wednesday')\n",
    "\n",
    "class time(date):\n",
    "\n",
    "    def timedata(self):\n",
    "        print(f'{self.time} wednesday to thusday')\n",
    "\n",
    "time = time('sunday to')\n",
    "print(time.datedata())"
   ]
  },
  {
   "cell_type": "code",
   "execution_count": 80,
   "id": "f90eff0c-fe0d-414f-88af-4684cd69f5bf",
   "metadata": {},
   "outputs": [
    {
     "name": "stdout",
     "output_type": "stream",
     "text": [
      "There are 60min in One hour\n",
      "There are 12 month in \n"
     ]
    }
   ],
   "source": [
    "class Animal:\n",
    "    def __init__(self, name):\n",
    "        self.name = name\n",
    "\n",
    "    def speak(self):\n",
    "        return f\"{self.name} are seven days in week\"\n",
    "\n",
    "\n",
    "class Mammal(Animal):\n",
    "    def walk(self):\n",
    "        return f\"{self.name} are 12 month in \"\n",
    "\n",
    "\n",
    "class Dog(Mammal):\n",
    "    def speak(self):\n",
    "        return f\"{self.name} are 60min in One hour\"\n",
    "\n",
    "\n",
    "dog = Dog(\"There\")\n",
    "print(dog.speak())\n",
    "print(dog.walk())"
   ]
  },
  {
   "cell_type": "code",
   "execution_count": null,
   "id": "0a0c1d59-5184-4d01-b784-cb29db56bf34",
   "metadata": {},
   "outputs": [],
   "source": []
  }
 ],
 "metadata": {
  "kernelspec": {
   "display_name": "Python 3 (ipykernel)",
   "language": "python",
   "name": "python3"
  },
  "language_info": {
   "codemirror_mode": {
    "name": "ipython",
    "version": 3
   },
   "file_extension": ".py",
   "mimetype": "text/x-python",
   "name": "python",
   "nbconvert_exporter": "python",
   "pygments_lexer": "ipython3",
   "version": "3.12.4"
  }
 },
 "nbformat": 4,
 "nbformat_minor": 5
}
